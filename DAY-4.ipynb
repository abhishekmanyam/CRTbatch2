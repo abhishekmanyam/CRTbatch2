{
 "cells": [
  {
   "cell_type": "markdown",
   "metadata": {},
   "source": [
    "# tuples\n",
    "- enclosed in paranthesis.\n",
    "- cannot modify elements inside a tuple.\n",
    "- cannot delete elements inside a tuple.\n",
    "- list is mutable...tuple is immutable.\n",
    "\n",
    "\n"
   ]
  },
  {
   "cell_type": "code",
   "execution_count": 11,
   "metadata": {},
   "outputs": [
    {
     "name": "stdout",
     "output_type": "stream",
     "text": [
      "['a', 'b', 'c', 1]\n",
      "('a', 'b', 'c', 1)\n",
      "['a', 'b', 'c', 1]\n"
     ]
    },
    {
     "data": {
      "text/plain": [
       "('a', 'b', 'c', 1)"
      ]
     },
     "execution_count": 11,
     "metadata": {},
     "output_type": "execute_result"
    }
   ],
   "source": [
    "tup=('a','b','c',1)\n",
    "li=['a','b','c',1]\n",
    "print(li)\n",
    "print(tup)\n",
    "print(li[::1])\n",
    "tup[::1]"
   ]
  },
  {
   "cell_type": "markdown",
   "metadata": {},
   "source": [
    "# Dictionary\n",
    "- data will be enclosed in {}\n",
    "- the data will be in the form of key value pairs\n",
    "- each key is seperated with its value by a colon(:)\n",
    "- each key value is seperated by comma\n",
    "- keys are unique"
   ]
  },
  {
   "cell_type": "code",
   "execution_count": 25,
   "metadata": {},
   "outputs": [
    {
     "name": "stdout",
     "output_type": "stream",
     "text": [
      "{1: 'gitam', 2: 'hi', 3: 'hyd'}\n",
      "{1: 'gitam', 2: 'hi', 3: 'hyd', 'mail': 'abhishekmanyam@gmail.com'}\n",
      "{1: 'gitam', 2: 'hi', 3: 'hyd', 'mail': 'abhishekmanyam@gmail.com'}\n",
      "dict_keys([1, 2, 3, 'mail'])\n",
      "dict_values(['gitam', 'hi', 'hyd', 'abhishekmanyam@gmail.com'])\n",
      "{1: 'gitam', 3: 'hyd', 'mail': 'abhishekmanyam@gmail.com'}\n"
     ]
    }
   ],
   "source": [
    "d1={1:\"gitam\",2:\"hi\",3:\"hyd\"}\n",
    "print(d1)\n",
    "type(d1)\n",
    "d1[1]\n",
    "d1[\"mail\"]=\"abhishekmanyam@gmail.com\"\n",
    "#del d1[1]\n",
    "print(d1)\n",
    "#del d1\n",
    "print(d1)\n",
    "print(d1.keys())\n",
    "print(d1.values())\n",
    "d1.pop(2)\n",
    "print(d1\n",
    ")"
   ]
  }
 ],
 "metadata": {
  "kernelspec": {
   "display_name": "Python 3",
   "language": "python",
   "name": "python3"
  },
  "language_info": {
   "codemirror_mode": {
    "name": "ipython",
    "version": 3
   },
   "file_extension": ".py",
   "mimetype": "text/x-python",
   "name": "python",
   "nbconvert_exporter": "python",
   "pygments_lexer": "ipython3",
   "version": "3.7.3"
  }
 },
 "nbformat": 4,
 "nbformat_minor": 2
}
